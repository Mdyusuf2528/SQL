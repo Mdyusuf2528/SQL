{
 "cells": [
  {
   "cell_type": "code",
   "execution_count": null,
   "id": "96cb7587",
   "metadata": {},
   "outputs": [],
   "source": [
    "\n",
    "# Amount (input) -> { last ah check pannanum balance ah vida exceed aagaama irukkanu }\n",
    "\n",
    "# card no (input) -> card no laam sariyaa irukkaanu\n",
    "\n",
    "# cvv (input) -> cvv antha card kkanathaanu naama pakkanum\n",
    "\n",
    "# security pin (input) -> security pin um antha card kkanathaanu naama pakkanum\n",
    "\n",
    "# thiruppi theva pattra matter ah oru variable la input vaangum pothae store aaganum update-um aaganum\n",
    "\n",
    "# Ellaam match aagittaa ippa check pannanum {} & ok naa -> balance ah update panni vidranum, illainaa insufficient msge kodukkanum\n",
    "---------\n",
    "# card details venum -> cross check um nadakkanum\n",
    "\n",
    "# cross check epdinaa -> condition based details ah variable ah update panni cross verify\n",
    "\n",
    "# update\n",
    "\n"
   ]
  },
  {
   "cell_type": "code",
   "execution_count": 1,
   "id": "38fedd51",
   "metadata": {},
   "outputs": [],
   "source": [
    "import psycopg2\n",
    "import pandas as pd"
   ]
  },
  {
   "cell_type": "code",
   "execution_count": 2,
   "id": "1cecf21e",
   "metadata": {
    "scrolled": false
   },
   "outputs": [],
   "source": [
    "conn = psycopg2.connect(host = 'localhost',password = 'PASSWORD', port = 5432, user = 'postgres', database = 'Bank_ATM')\n",
    "conn.autocommit = True\n",
    "cur = conn.cursor()"
   ]
  },
  {
   "cell_type": "code",
   "execution_count": 3,
   "id": "ac23633b",
   "metadata": {},
   "outputs": [
    {
     "name": "stdout",
     "output_type": "stream",
     "text": [
      "         Ac/No    Name Address Code  Balance       Phone   PIN\n",
      "0  33171516990   Yusuf          rmd    11750  6381810099  3215\n",
      "1  32435343353   Saran          slm    34810  8972389663  2354\n",
      "2  33187183334  Madhan          npt    34001  6389289233  4393\n"
     ]
    }
   ],
   "source": [
    "# SBI ACCOUNT'S TABLE\n",
    "cur.execute(\"select * from sbi\")\n",
    "Acc = cur.fetchall()\n",
    "Accounts = pd.DataFrame(Acc)\n",
    "Ac_display=Accounts.loc[:,:5]\n",
    "Ac_display.columns = ['Ac/No','Name','Address Code','Balance','Phone','PIN']\n",
    "print(Ac_display)"
   ]
  },
  {
   "cell_type": "code",
   "execution_count": 4,
   "id": "16827eae",
   "metadata": {},
   "outputs": [
    {
     "name": "stdout",
     "output_type": "stream",
     "text": [
      "    Card_NO        Ac/No    Name  CVV   PIN\n",
      "0  12345688  33187183334  Madhan  245  4393\n",
      "1  12345678  33171516990   Yusuf  324  3215\n",
      "2  12345698  32435343353   Saran  372  2354\n"
     ]
    }
   ],
   "source": [
    "# DEBIT CARD DETAILS\n",
    "cur.execute(\"select * from debit_card\")\n",
    "DC = cur.fetchall()\n",
    "Debit_Card = pd.DataFrame(DC)\n",
    "Debit_Card.columns = [\"Card_NO\",'Ac/No','Name',\"CVV\",\"PIN\"]\n",
    "print(Debit_Card)"
   ]
  },
  {
   "cell_type": "code",
   "execution_count": 6,
   "id": "509e7ece",
   "metadata": {},
   "outputs": [],
   "source": [
    "class ATM:\n",
    "    def Amount(self):\n",
    "        self.Name = input('Name :' )\n",
    "        Name = self.Name\n",
    "        self.Amount = int(input('Amount :'))\n",
    "        cur.execute(\"select balance from sbi where name =%s;\", [Name])\n",
    "        Amount_fetch = cur.fetchall()\n",
    "        while True:\n",
    "            for i in Amount_fetch:pass\n",
    "            if self.Amount > i[0] :\n",
    "                    print(\"insufficient Balance!\")\n",
    "                    self.Amount = int(input('Amount :'))\n",
    "            else:\n",
    "                break\n",
    "                    \n",
    "    #..........................................................................................................#\n",
    "    \n",
    "    def card_details(self):\n",
    "        #..................................Card_No.........................................#   \n",
    "        \n",
    "        Name = self.Name\n",
    "        Card_NO = int(input(\"card no :\"))\n",
    "        cur.execute(\"select card_no from debit_card where name = %s\",[Name])\n",
    "        card = cur.fetchall()\n",
    "        while True:\n",
    "            for i in card:pass\n",
    "            if Card_NO != i[0]:\n",
    "                print(\"Enter correct card_no\")\n",
    "                Card_NO = int(input(\"card no :\"))\n",
    "            else:\n",
    "                break\n",
    "                \n",
    "        #..................................CVV.........................................#   \n",
    "        \n",
    "        CVV = int(input(\"CVV :\"))\n",
    "        cur.execute(\"select cvv from debit_card where name = %s\",[Name])\n",
    "        cvv = cur.fetchall()\n",
    "        while True:\n",
    "            for i in cvv:pass\n",
    "            if CVV != i[0]:\n",
    "                print(\"Enter correct cvv\")\n",
    "                CVV = int(input(\"cvv :\"))\n",
    "            else:\n",
    "                break\n",
    "                \n",
    "        #..................................PIN.........................................#   \n",
    "        \n",
    "        PIN = int(input(\"PIN :\"))\n",
    "        cur.execute(\"select security_pin from debit_card where name = %s\",[Name])\n",
    "        pin = cur.fetchall()\n",
    "        while True:\n",
    "            for i in pin:pass\n",
    "            if PIN != i[0]:\n",
    "                print(\"Enter correct PIN\")\n",
    "                PIN = int(input(\"PIN :\"))\n",
    "            else:\n",
    "                    break\n",
    "\n",
    "    \n",
    "    def balance_update(self):\n",
    "        Name = self.Name\n",
    "        Amount = self.Amount\n",
    "        cur.execute(\"update sbi set balance = (balance - %s) where name = %s\", [Amount,Name])\n",
    "        cur.execute(\"select * from audit order by timestamp desc\")\n",
    "        audit = cur.fetchone()\n",
    "        df = pd.DataFrame(audit)\n",
    "        DF = df.transpose()\n",
    "        DF.columns = ['Transaction_id','Ac_No','Name','Withdrawn Amount','Timestamp']\n",
    "        print(\"! SUCCESSFULLY WITHDRAWN !\")\n",
    "        return DF\n",
    "    \n",
    "    "
   ]
  },
  {
   "cell_type": "code",
   "execution_count": 7,
   "id": "a16d2903",
   "metadata": {},
   "outputs": [],
   "source": [
    "ATM = ATM ()"
   ]
  },
  {
   "cell_type": "code",
   "execution_count": 8,
   "id": "a19d3c8b",
   "metadata": {},
   "outputs": [
    {
     "name": "stdout",
     "output_type": "stream",
     "text": [
      "Name :Saran\n",
      "Amount :130\n",
      "card no :12345698\n",
      "CVV :372\n",
      "PIN :2354\n",
      "! SUCCESSFULLY WITHDRAWN !\n"
     ]
    },
    {
     "data": {
      "text/html": [
       "<div>\n",
       "<style scoped>\n",
       "    .dataframe tbody tr th:only-of-type {\n",
       "        vertical-align: middle;\n",
       "    }\n",
       "\n",
       "    .dataframe tbody tr th {\n",
       "        vertical-align: top;\n",
       "    }\n",
       "\n",
       "    .dataframe thead th {\n",
       "        text-align: right;\n",
       "    }\n",
       "</style>\n",
       "<table border=\"1\" class=\"dataframe\">\n",
       "  <thead>\n",
       "    <tr style=\"text-align: right;\">\n",
       "      <th></th>\n",
       "      <th>Transaction_id</th>\n",
       "      <th>Ac_No</th>\n",
       "      <th>Name</th>\n",
       "      <th>Withdrawn Amount</th>\n",
       "      <th>Timestamp</th>\n",
       "    </tr>\n",
       "  </thead>\n",
       "  <tbody>\n",
       "    <tr>\n",
       "      <th>0</th>\n",
       "      <td>8b91d032</td>\n",
       "      <td>32435343353</td>\n",
       "      <td>Saran</td>\n",
       "      <td>130</td>\n",
       "      <td>2023-02-21 10:13:39</td>\n",
       "    </tr>\n",
       "  </tbody>\n",
       "</table>\n",
       "</div>"
      ],
      "text/plain": [
       "  Transaction_id        Ac_No   Name Withdrawn Amount            Timestamp\n",
       "0       8b91d032  32435343353  Saran              130  2023-02-21 10:13:39"
      ]
     },
     "execution_count": 8,
     "metadata": {},
     "output_type": "execute_result"
    }
   ],
   "source": [
    "ATM.Amount()\n",
    "ATM.card_details()\n",
    "ATM.balance_update()"
   ]
  },
  {
   "cell_type": "code",
   "execution_count": 9,
   "id": "298c66ee",
   "metadata": {
    "scrolled": true
   },
   "outputs": [
    {
     "name": "stdout",
     "output_type": "stream",
     "text": [
      "  Transaction_id        Ac/No    Name  Withdrawn Amount            Timestamp\n",
      "0       41fd3cd6  33171516990   Yusuf               100  2023-02-20 10:45:36\n",
      "1       3500f61b  33171516990   Yusuf               150  2023-02-20 10:47:54\n",
      "2       6124643d  32435343353   Saran               190  2023-02-20 10:49:35\n",
      "3       7229ce93  33187183334  Madhan               999  2023-02-20 10:50:57\n",
      "4       8b91d032  32435343353   Saran               130  2023-02-21 10:13:39\n"
     ]
    }
   ],
   "source": [
    "# Audit Log\n",
    "cur.execute(\"select * from audit\")\n",
    "ad = cur.fetchall()\n",
    "audit = pd.DataFrame(ad)\n",
    "audit.columns = [\"Transaction_id\",'Ac/No','Name',\"Withdrawn Amount\",\"Timestamp\"]\n",
    "print(audit)"
   ]
  }
 ],
 "metadata": {
  "kernelspec": {
   "display_name": "Python 3 (ipykernel)",
   "language": "python",
   "name": "python3"
  },
  "language_info": {
   "codemirror_mode": {
    "name": "ipython",
    "version": 3
   },
   "file_extension": ".py",
   "mimetype": "text/x-python",
   "name": "python",
   "nbconvert_exporter": "python",
   "pygments_lexer": "ipython3",
   "version": "3.9.13"
  }
 },
 "nbformat": 4,
 "nbformat_minor": 5
}
